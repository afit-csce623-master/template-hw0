{
  "nbformat": 4,
  "nbformat_minor": 0,
  "metadata": {
    "colab": {
      "name": "template-hw0.ipynb",
      "provenance": [],
      "collapsed_sections": [],
      "toc_visible": true
    },
    "kernelspec": {
      "name": "python3",
      "display_name": "Python 3"
    }
  },
  "cells": [
    {
      "cell_type": "markdown",
      "metadata": {
        "id": "view-in-github",
        "colab_type": "text"
      },
      "source": [
        "<a href=\"https://colab.research.google.com/github/afit-csce623-master/template-hw0/blob/main/template_hw0.ipynb\" target=\"_parent\"><img src=\"https://colab.research.google.com/assets/colab-badge.svg\" alt=\"Open In Colab\"/></a>"
      ]
    },
    {
      "cell_type": "markdown",
      "metadata": {
        "nbgrader": {
          "grade": false,
          "grade_id": "cell-6d0fb40523026b17",
          "locked": true,
          "schema_version": 3,
          "solution": false,
          "task": false
        },
        "id": "Gdr-ueUldM4E"
      },
      "source": [
        "# CSCE 623 Homework Assignment"
      ]
    },
    {
      "cell_type": "markdown",
      "metadata": {
        "id": "CsCY7fC9M6Vr"
      },
      "source": [
        "## Header"
      ]
    },
    {
      "cell_type": "markdown",
      "metadata": {
        "id": "q7R9W9fBdsH_"
      },
      "source": [
        "### Student Name"
      ]
    },
    {
      "cell_type": "markdown",
      "metadata": {
        "id": "nURZHcOgOTV3"
      },
      "source": [
        "< Enter Student Name >"
      ]
    },
    {
      "cell_type": "markdown",
      "metadata": {
        "id": "YJ4ftr1PObVj"
      },
      "source": [
        "### Date"
      ]
    },
    {
      "cell_type": "markdown",
      "metadata": {
        "id": "R72J2ni7Ocke"
      },
      "source": [
        "< Enter Date >"
      ]
    },
    {
      "cell_type": "code",
      "metadata": {
        "id": "6NCxSHNUHzE1"
      },
      "source": [
        "import pandas as pd\n",
        "import hashlib\n",
        "import json"
      ],
      "execution_count": null,
      "outputs": []
    },
    {
      "cell_type": "markdown",
      "metadata": {
        "id": "YxwQLzph0Dyi"
      },
      "source": [
        "## Disclosures\n",
        "\n",
        "This notebook will change the system configuration in the following ways:\n",
        "- None"
      ]
    },
    {
      "cell_type": "markdown",
      "metadata": {
        "id": "jjsJmbLkPBX4"
      },
      "source": [
        "## Overview"
      ]
    },
    {
      "cell_type": "markdown",
      "metadata": {
        "id": "UEGAAVJJPHHN"
      },
      "source": [
        "## Discussion"
      ]
    },
    {
      "cell_type": "markdown",
      "metadata": {
        "id": "113P2OqPPTA-"
      },
      "source": [
        "### Notebook Commands"
      ]
    },
    {
      "cell_type": "markdown",
      "metadata": {
        "id": "Uqy0yFCa2SVA"
      },
      "source": [
        "If using Colab for development, your Jupyter notebook will run on a Google-provided server. The preconfiguration will provide a wealth of installed packages. If developing locally, the packages available will depend on your environment.\n",
        "\n",
        "The following code will enumerate the packages available."
      ]
    },
    {
      "cell_type": "code",
      "metadata": {
        "id": "okjblVnW16rw",
        "colab": {
          "base_uri": "https://localhost:8080/"
        },
        "outputId": "5f258bc5-4766-4145-fe73-f4b8eae83317"
      },
      "source": [
        "import subprocess\n",
        "import sys\n",
        "\n",
        "reqs = subprocess.check_output([sys.executable, '-m', 'pip', 'freeze'])\n",
        "installed_packages = [r.decode().split('==')[0] for r in reqs.split()]\n",
        "\n",
        "print(installed_packages)"
      ],
      "execution_count": null,
      "outputs": [
        {
          "output_type": "stream",
          "text": [
            "['absl-py', 'alabaster', 'albumentations', 'altair', 'appdirs', 'argon2-cffi', 'astor', 'astropy', 'astunparse', 'async-generator', 'atari-py', 'atomicwrites', 'attrs', 'audioread', 'autograd', 'Babel', 'backcall', 'beautifulsoup4', 'bleach', 'blis', 'bokeh', 'Bottleneck', 'branca', 'bs4', 'CacheControl', 'cachetools', 'catalogue', 'certifi', 'cffi', 'chainer', 'chardet', 'click', 'cloudpickle', 'cmake', 'cmdstanpy', 'colorcet', 'colorlover', 'community', 'contextlib2', 'convertdate', 'coverage', 'coveralls', 'crcmod', 'cufflinks', 'cvxopt', 'cvxpy', 'cycler', 'cymem', 'Cython', 'daft', 'dask', 'datascience', 'debugpy', 'decorator', 'defusedxml', 'descartes', 'dill', 'distributed', 'dlib', 'dm-tree', 'docopt', 'docutils', 'dopamine-rl', 'earthengine-api', 'easydict', 'ecos', 'editdistance', 'en-core-web-sm', 'entrypoints', 'ephem', 'et-xmlfile', 'fa2', 'fancyimpute', 'fastai', 'fastdtw', 'fastprogress', 'fastrlock', 'fbprophet', 'feather-format', 'filelock', 'firebase-admin', 'fix-yahoo-finance', 'Flask', 'flatbuffers', 'folium', 'future', 'gast', 'GDAL', 'gdown', 'gensim', 'geographiclib', 'geopy', 'gin-config', 'glob2', 'google', 'google-api-core', 'google-api-python-client', 'google-auth', 'google-auth-httplib2', 'google-auth-oauthlib', 'google-cloud-bigquery', 'google-cloud-bigquery-storage', 'google-cloud-core', 'google-cloud-datastore', 'google-cloud-firestore', 'google-cloud-language', 'google-cloud-storage', 'google-cloud-translate', 'google-colab', 'google-pasta', 'google-resumable-media', 'googleapis-common-protos', 'googledrivedownloader', 'graphviz', 'greenlet', 'grpcio', 'gspread', 'gspread-dataframe', 'gym', 'h5py', 'HeapDict', 'hijri-converter', 'holidays', 'holoviews', 'html5lib', 'httpimport', 'httplib2', 'httplib2shim', 'humanize', 'hyperopt', 'ideep4py', 'idna', 'imageio', 'imagesize', 'imbalanced-learn', 'imblearn', 'imgaug', 'importlib-metadata', 'importlib-resources', 'imutils', 'inflect', 'iniconfig', 'intel-openmp', 'intervaltree', 'ipykernel', 'ipython', 'ipython-genutils', 'ipython-sql', 'ipywidgets', 'itsdangerous', 'jax', 'jaxlib', 'jdcal', 'jedi', 'jieba', 'Jinja2', 'joblib', 'jpeg4py', 'jsonschema', 'jupyter', 'jupyter-client', 'jupyter-console', 'jupyter-core', 'jupyterlab-pygments', 'jupyterlab-widgets', 'kaggle', 'kapre', 'Keras', 'Keras-Preprocessing', 'keras-vis', 'kiwisolver', 'knnimpute', 'korean-lunar-calendar', 'librosa', 'lightgbm', 'llvmlite', 'lmdb', 'LunarCalendar', 'lxml', 'Markdown', 'MarkupSafe', 'matplotlib', 'matplotlib-venn', 'missingno', 'mistune', 'mizani', 'mkl', 'mlxtend', 'more-itertools', 'moviepy', 'mpmath', 'msgpack', 'multiprocess', 'multitasking', 'murmurhash', 'music21', 'natsort', 'nbclient', 'nbconvert', 'nbformat', 'nest-asyncio', 'networkx', 'nibabel', 'nltk', 'notebook', 'np-utils', 'numba', 'numexpr', 'numpy', 'nvidia-ml-py3', 'oauth2client', 'oauthlib', 'okgrade', 'opencv-contrib-python', 'opencv-python', 'openpyxl', 'opt-einsum', 'osqp', 'packaging', 'palettable', 'pandas', 'pandas-datareader', 'pandas-gbq', 'pandas-profiling', 'pandocfilters', 'panel', 'param', 'parso', 'pathlib', 'patsy', 'pexpect', 'pickleshare', 'Pillow', 'pip-tools', 'plac', 'plotly', 'plotnine', 'pluggy', 'pooch', 'portpicker', 'prefetch-generator', 'preshed', 'prettytable', 'progressbar2', 'prometheus-client', 'promise', 'prompt-toolkit', 'protobuf', 'psutil', 'psycopg2', 'ptyprocess', 'py', 'pyarrow', 'pyasn1', 'pyasn1-modules', 'pycocotools', 'pycparser', 'pyct', 'pydata-google-auth', 'pydot', 'pydot-ng', 'pydotplus', 'PyDrive', 'pyemd', 'pyerfa', 'pyglet', 'Pygments', 'pygobject', 'pymc3', 'PyMeeus', 'pymongo', 'pymystem3', 'PyOpenGL', 'pyparsing', 'pyrsistent', 'pysndfile', 'PySocks', 'pystan', 'pytest', 'python-apt', 'python-chess', 'python-dateutil', 'python-louvain', 'python-slugify', 'python-utils', 'pytz', 'pyviz-comms', 'PyWavelets', 'PyYAML', 'pyzmq', 'qdldl', 'qtconsole', 'QtPy', 'regex', 'requests', 'requests-oauthlib', 'resampy', 'retrying', 'rpy2', 'rsa', 'scikit-image', 'scikit-learn', 'scipy', 'screen-resolution-extra', 'scs', 'seaborn', 'Send2Trash', 'setuptools-git', 'Shapely', 'simplegeneric', 'six', 'sklearn', 'sklearn-pandas', 'smart-open', 'snowballstemmer', 'sortedcontainers', 'SoundFile', 'spacy', 'Sphinx', 'sphinxcontrib-serializinghtml', 'sphinxcontrib-websupport', 'SQLAlchemy', 'sqlparse', 'srsly', 'statsmodels', 'sympy', 'tables', 'tabulate', 'tblib', 'tensorboard', 'tensorboard-plugin-wit', 'tensorflow', 'tensorflow-datasets', 'tensorflow-estimator', 'tensorflow-gcs-config', 'tensorflow-hub', 'tensorflow-metadata', 'tensorflow-probability', 'termcolor', 'terminado', 'testpath', 'text-unidecode', 'textblob', 'textgenrnn', 'Theano', 'thinc', 'tifffile', 'toml', 'toolz', 'torch', 'torchsummary', 'torchtext', 'torchvision', 'tornado', 'tqdm', 'traitlets', 'tweepy', 'typeguard', 'typing-extensions', 'tzlocal', 'uritemplate', 'urllib3', 'vega-datasets', 'wasabi', 'wcwidth', 'webencodings', 'Werkzeug', 'widgetsnbextension', 'wordcloud', 'wrapt', 'xarray', 'xgboost', 'xkit', 'xlrd', 'xlwt', 'yellowbrick', 'zict', 'zipp']\n"
          ],
          "name": "stdout"
        }
      ]
    },
    {
      "cell_type": "markdown",
      "metadata": {
        "id": "SSuID5iR3l4n"
      },
      "source": [
        "You may install additional packages directly from within the notebook. If developing locally, you could install additional packages directly in your environment instead of installing them using the notebook. However, your notebook is more portable if you install packages within the notebook itself."
      ]
    },
    {
      "cell_type": "code",
      "metadata": {
        "id": "oPSe72cU3ug9",
        "colab": {
          "base_uri": "https://localhost:8080/"
        },
        "outputId": "fd45f625-b680-40ce-9347-43e798451934"
      },
      "source": [
        "%pip install cartopy"
      ],
      "execution_count": null,
      "outputs": [
        {
          "output_type": "stream",
          "text": [
            "Collecting cartopy\n",
            "\u001b[?25l  Downloading https://files.pythonhosted.org/packages/46/c1/04e50c9986842f00f7db0e7a65caa896840050d7328f74e5b7437aa01179/Cartopy-0.18.0.tar.gz (14.4MB)\n",
            "\u001b[K     |████████████████████████████████| 14.4MB 281kB/s \n",
            "\u001b[?25hRequirement already satisfied: numpy>=1.10 in /usr/local/lib/python3.7/dist-packages (from cartopy) (1.19.5)\n",
            "Requirement already satisfied: shapely>=1.5.6 in /usr/local/lib/python3.7/dist-packages (from cartopy) (1.7.1)\n",
            "Collecting pyshp>=1.1.4\n",
            "\u001b[?25l  Downloading https://files.pythonhosted.org/packages/38/85/fbf87e7aa55103e0d06af756bdbc15cf821fa580414c23142d60a35d4f85/pyshp-2.1.3.tar.gz (219kB)\n",
            "\u001b[K     |████████████████████████████████| 225kB 41.7MB/s \n",
            "\u001b[?25hRequirement already satisfied: six>=1.3.0 in /usr/local/lib/python3.7/dist-packages (from cartopy) (1.15.0)\n",
            "Requirement already satisfied: setuptools>=0.7.2 in /usr/local/lib/python3.7/dist-packages (from cartopy) (54.2.0)\n",
            "Building wheels for collected packages: cartopy, pyshp\n",
            "  Building wheel for cartopy (setup.py) ... \u001b[?25l\u001b[?25hdone\n",
            "  Created wheel for cartopy: filename=Cartopy-0.18.0-cp37-cp37m-linux_x86_64.whl size=15127683 sha256=34695df7012660a6db67d53c949b28cf08e7be96ddbb0e2b8fc8d8f2d9f8c88e\n",
            "  Stored in directory: /root/.cache/pip/wheels/8d/f8/da/2c05136f2162370d2baec85bfbbf91d7729ab9e248da878acd\n",
            "  Building wheel for pyshp (setup.py) ... \u001b[?25l\u001b[?25hdone\n",
            "  Created wheel for pyshp: filename=pyshp-2.1.3-cp37-none-any.whl size=37264 sha256=c75432dace66f02452f5864e26ac4a0e2f9b4bab42e5256b0088d3f426ecf5aa\n",
            "  Stored in directory: /root/.cache/pip/wheels/76/2b/d4/53e6b9a0fb0a9f9f29664cf82605af8bc81d5ab44d987896dd\n",
            "Successfully built cartopy pyshp\n",
            "Installing collected packages: pyshp, cartopy\n",
            "Successfully installed cartopy-0.18.0 pyshp-2.1.3\n"
          ],
          "name": "stdout"
        }
      ]
    },
    {
      "cell_type": "markdown",
      "metadata": {
        "id": "zUJ8B01B8ynt"
      },
      "source": [
        "You can also execute Linux system commands from within the notebook. Refer to [the IPython System Commands tutorial at www.tutorialspoint.com](https://www.tutorialspoint.com/jupyter/ipython_system_commands.htm) and use the following cell to explore using system commands. Try the following:\n",
        "\n",
        "- display the name of the current working directory\n",
        "- list the folder contents"
      ]
    },
    {
      "cell_type": "code",
      "metadata": {
        "id": "tVVLQUef_hR7"
      },
      "source": [
        ""
      ],
      "execution_count": null,
      "outputs": []
    },
    {
      "cell_type": "markdown",
      "metadata": {
        "id": "3pQ5_inDAiUh"
      },
      "source": [
        "Jupyter notebooks also includes magic commands. Read more about magic commands [at the IPython Magic Commands tutorial at www.tutorialspoint.com](https://www.tutorialspoint.com/jupyter/ipython_magic_commands.htm).\n",
        "\n",
        "Experiment with magic commands below. Try the following:\n",
        "- display the name of the current working directory\n",
        "- list the folder contents\n",
        "- create a directory\n",
        "- change the current directory to the directory you just created\n",
        "- assign the name of the present working directory to a Python variable"
      ]
    },
    {
      "cell_type": "code",
      "metadata": {
        "id": "g6le4Cjn4_Lm"
      },
      "source": [
        ""
      ],
      "execution_count": null,
      "outputs": []
    },
    {
      "cell_type": "markdown",
      "metadata": {
        "id": "sW15DtxoCAm5"
      },
      "source": [
        "## Required Activities"
      ]
    },
    {
      "cell_type": "markdown",
      "metadata": {
        "id": "gpkiVuXWPUbc"
      },
      "source": [
        "### STEP 1"
      ]
    },
    {
      "cell_type": "markdown",
      "metadata": {
        "id": "jdPlT5qnDfvv"
      },
      "source": [
        "Often, you'll use datasets in your notebooks. You can use a notebook to import the dataset into your environment. If developing locally, you can import datasets directly in your development environment, but importing datasets from within your notebook improves its portability. \n",
        "\n",
        "1. Using the `wget` system command (or a suitable alternative for your environment), download the housing dataset used in several chapters of the _Hands-On Machine Learning_ text (_HOML_). The URL of the datasetet is `https://raw.githubusercontent.com/ageron/handson-ml2/master/datasets/housing/housing.csv`.\n",
        "2. Using `pandas`, save the dataset into a pandas dataframe variable named `data`."
      ]
    },
    {
      "cell_type": "code",
      "metadata": {
        "id": "WndVIXHDHJxT",
        "colab": {
          "base_uri": "https://localhost:8080/",
          "height": 484
        },
        "outputId": "9e824648-8060-4e94-ac2f-1708ad960ee3"
      },
      "source": [
        "#STEP 1\n",
        "\n",
        "#STUDENT CODE - insert code to import housing.csv using wget, then use pandas to store the data in a dataframe called 'df'\n",
        "#---------------------------------------------\n",
        "!wget https://raw.githubusercontent.com/ageron/handson-ml2/master/datasets/housing/housing.csv\n",
        "df = pd.read_csv('housing.csv')\n",
        "\n",
        "#---------------------------------------------\n",
        "df.describe()\n",
        "\n",
        "# comment out the following or change value to True to test Step 1\n",
        "STEP_1_COMPLETE = False"
      ],
      "execution_count": null,
      "outputs": [
        {
          "output_type": "stream",
          "text": [
            "--2021-04-02 15:23:37--  https://raw.githubusercontent.com/ageron/handson-ml2/master/datasets/housing/housing.csv\n",
            "Resolving raw.githubusercontent.com (raw.githubusercontent.com)... 185.199.108.133, 185.199.110.133, 185.199.111.133, ...\n",
            "Connecting to raw.githubusercontent.com (raw.githubusercontent.com)|185.199.108.133|:443... connected.\n",
            "HTTP request sent, awaiting response... 200 OK\n",
            "Length: 1423529 (1.4M) [text/plain]\n",
            "Saving to: ‘housing.csv.2’\n",
            "\n",
            "\rhousing.csv.2         0%[                    ]       0  --.-KB/s               \rhousing.csv.2       100%[===================>]   1.36M  --.-KB/s    in 0.06s   \n",
            "\n",
            "2021-04-02 15:23:37 (23.6 MB/s) - ‘housing.csv.2’ saved [1423529/1423529]\n",
            "\n"
          ],
          "name": "stdout"
        },
        {
          "output_type": "execute_result",
          "data": {
            "text/html": [
              "<div>\n",
              "<style scoped>\n",
              "    .dataframe tbody tr th:only-of-type {\n",
              "        vertical-align: middle;\n",
              "    }\n",
              "\n",
              "    .dataframe tbody tr th {\n",
              "        vertical-align: top;\n",
              "    }\n",
              "\n",
              "    .dataframe thead th {\n",
              "        text-align: right;\n",
              "    }\n",
              "</style>\n",
              "<table border=\"1\" class=\"dataframe\">\n",
              "  <thead>\n",
              "    <tr style=\"text-align: right;\">\n",
              "      <th></th>\n",
              "      <th>longitude</th>\n",
              "      <th>latitude</th>\n",
              "      <th>housing_median_age</th>\n",
              "      <th>total_rooms</th>\n",
              "      <th>total_bedrooms</th>\n",
              "      <th>population</th>\n",
              "      <th>households</th>\n",
              "      <th>median_income</th>\n",
              "      <th>median_house_value</th>\n",
              "    </tr>\n",
              "  </thead>\n",
              "  <tbody>\n",
              "    <tr>\n",
              "      <th>count</th>\n",
              "      <td>20640.000000</td>\n",
              "      <td>20640.000000</td>\n",
              "      <td>20640.000000</td>\n",
              "      <td>20640.000000</td>\n",
              "      <td>20433.000000</td>\n",
              "      <td>20640.000000</td>\n",
              "      <td>20640.000000</td>\n",
              "      <td>20640.000000</td>\n",
              "      <td>20640.000000</td>\n",
              "    </tr>\n",
              "    <tr>\n",
              "      <th>mean</th>\n",
              "      <td>-119.569704</td>\n",
              "      <td>35.631861</td>\n",
              "      <td>28.639486</td>\n",
              "      <td>2635.763081</td>\n",
              "      <td>537.870553</td>\n",
              "      <td>1425.476744</td>\n",
              "      <td>499.539680</td>\n",
              "      <td>3.870671</td>\n",
              "      <td>206855.816909</td>\n",
              "    </tr>\n",
              "    <tr>\n",
              "      <th>std</th>\n",
              "      <td>2.003532</td>\n",
              "      <td>2.135952</td>\n",
              "      <td>12.585558</td>\n",
              "      <td>2181.615252</td>\n",
              "      <td>421.385070</td>\n",
              "      <td>1132.462122</td>\n",
              "      <td>382.329753</td>\n",
              "      <td>1.899822</td>\n",
              "      <td>115395.615874</td>\n",
              "    </tr>\n",
              "    <tr>\n",
              "      <th>min</th>\n",
              "      <td>-124.350000</td>\n",
              "      <td>32.540000</td>\n",
              "      <td>1.000000</td>\n",
              "      <td>2.000000</td>\n",
              "      <td>1.000000</td>\n",
              "      <td>3.000000</td>\n",
              "      <td>1.000000</td>\n",
              "      <td>0.499900</td>\n",
              "      <td>14999.000000</td>\n",
              "    </tr>\n",
              "    <tr>\n",
              "      <th>25%</th>\n",
              "      <td>-121.800000</td>\n",
              "      <td>33.930000</td>\n",
              "      <td>18.000000</td>\n",
              "      <td>1447.750000</td>\n",
              "      <td>296.000000</td>\n",
              "      <td>787.000000</td>\n",
              "      <td>280.000000</td>\n",
              "      <td>2.563400</td>\n",
              "      <td>119600.000000</td>\n",
              "    </tr>\n",
              "    <tr>\n",
              "      <th>50%</th>\n",
              "      <td>-118.490000</td>\n",
              "      <td>34.260000</td>\n",
              "      <td>29.000000</td>\n",
              "      <td>2127.000000</td>\n",
              "      <td>435.000000</td>\n",
              "      <td>1166.000000</td>\n",
              "      <td>409.000000</td>\n",
              "      <td>3.534800</td>\n",
              "      <td>179700.000000</td>\n",
              "    </tr>\n",
              "    <tr>\n",
              "      <th>75%</th>\n",
              "      <td>-118.010000</td>\n",
              "      <td>37.710000</td>\n",
              "      <td>37.000000</td>\n",
              "      <td>3148.000000</td>\n",
              "      <td>647.000000</td>\n",
              "      <td>1725.000000</td>\n",
              "      <td>605.000000</td>\n",
              "      <td>4.743250</td>\n",
              "      <td>264725.000000</td>\n",
              "    </tr>\n",
              "    <tr>\n",
              "      <th>max</th>\n",
              "      <td>-114.310000</td>\n",
              "      <td>41.950000</td>\n",
              "      <td>52.000000</td>\n",
              "      <td>39320.000000</td>\n",
              "      <td>6445.000000</td>\n",
              "      <td>35682.000000</td>\n",
              "      <td>6082.000000</td>\n",
              "      <td>15.000100</td>\n",
              "      <td>500001.000000</td>\n",
              "    </tr>\n",
              "  </tbody>\n",
              "</table>\n",
              "</div>"
            ],
            "text/plain": [
              "          longitude      latitude  ...  median_income  median_house_value\n",
              "count  20640.000000  20640.000000  ...   20640.000000        20640.000000\n",
              "mean    -119.569704     35.631861  ...       3.870671       206855.816909\n",
              "std        2.003532      2.135952  ...       1.899822       115395.615874\n",
              "min     -124.350000     32.540000  ...       0.499900        14999.000000\n",
              "25%     -121.800000     33.930000  ...       2.563400       119600.000000\n",
              "50%     -118.490000     34.260000  ...       3.534800       179700.000000\n",
              "75%     -118.010000     37.710000  ...       4.743250       264725.000000\n",
              "max     -114.310000     41.950000  ...      15.000100       500001.000000\n",
              "\n",
              "[8 rows x 9 columns]"
            ]
          },
          "metadata": {
            "tags": []
          },
          "execution_count": 6
        }
      ]
    },
    {
      "cell_type": "markdown",
      "metadata": {
        "id": "Lv4c3PBTPWDn"
      },
      "source": [
        "### STEP 2"
      ]
    },
    {
      "cell_type": "markdown",
      "metadata": {
        "id": "rJAW4dazI2H3"
      },
      "source": [
        "## Answer the questions below:\n",
        "\n",
        "- What is the airspeed velocity of an unladen swallow?\n",
        "- What is the answer to the ultimate question of life, the universe, and everything?"
      ]
    },
    {
      "cell_type": "code",
      "metadata": {
        "id": "RJ-U8hNwzzT6"
      },
      "source": [
        "# comment out the following or change value to True to complete Step 2\n",
        "STEP_2_COMPLETE = False"
      ],
      "execution_count": null,
      "outputs": []
    },
    {
      "cell_type": "code",
      "metadata": {
        "id": "J-jCzt9d-Qfh",
        "colab": {
          "base_uri": "https://localhost:8080/"
        },
        "outputId": "1b23edca-9251-449a-93bc-ad58a4131509"
      },
      "source": [
        "!wget https://raw.githubusercontent.com/afit-csce623-master/handson-ml/master/datasets/housing/housing.csv"
      ],
      "execution_count": null,
      "outputs": [
        {
          "output_type": "stream",
          "text": [
            "--2021-04-02 15:20:37--  https://raw.githubusercontent.com/afit-csce623-master/handson-ml/master/datasets/housing/housing.csv\n",
            "Resolving raw.githubusercontent.com (raw.githubusercontent.com)... 185.199.108.133, 185.199.109.133, 185.199.110.133, ...\n",
            "Connecting to raw.githubusercontent.com (raw.githubusercontent.com)|185.199.108.133|:443... connected.\n",
            "HTTP request sent, awaiting response... 200 OK\n",
            "Length: 1423529 (1.4M) [text/plain]\n",
            "Saving to: ‘housing.csv.1’\n",
            "\n",
            "housing.csv.1       100%[===================>]   1.36M  --.-KB/s    in 0.05s   \n",
            "\n",
            "2021-04-02 15:20:37 (25.7 MB/s) - ‘housing.csv.1’ saved [1423529/1423529]\n",
            "\n"
          ],
          "name": "stdout"
        }
      ]
    },
    {
      "cell_type": "markdown",
      "metadata": {
        "id": "DUQWq0rZPXSa"
      },
      "source": [
        "### STEP 3"
      ]
    },
    {
      "cell_type": "markdown",
      "metadata": {
        "id": "ER1K4e6Dz9vG"
      },
      "source": [
        "Update the disclosures section above, enumerating the specific ways that this notebook will change the system configuration. You are providing this cell as a courtesy to a potential user to advise on which packages might be installed, directories created or removed, files downloaded, etc.\n",
        "\n",
        "The original code does the following:\n",
        "- installs the cartopy package\n",
        "- any directories or files that your final version of the code creates, modifies, or deletes"
      ]
    },
    {
      "cell_type": "code",
      "metadata": {
        "id": "4qaV8i9705ON"
      },
      "source": [
        "# comment out the following or change value to True to complete Step 3\n",
        "STEP_3_COMPLETE = False"
      ],
      "execution_count": null,
      "outputs": []
    },
    {
      "cell_type": "markdown",
      "metadata": {
        "id": "d1DnK-WqPj0q"
      },
      "source": [
        "## Helpful Hints"
      ]
    },
    {
      "cell_type": "markdown",
      "metadata": {
        "id": "MqVP0xWKPr_Z"
      },
      "source": [
        "- Auto testing is available in github. As you complete steps, commit this file to your GitHub repository. GitHub will run automated tests to verify your code. GitHub will not validate your text answers or plots.\n",
        "-- If you're using Colab by Google, you'll need to save to GitHub (File -> Save a Copy to GitHub)\n",
        "-- If you're developing on a local notebook, you'll need to commit your changes locally and push to your remote GitHub repository"
      ]
    }
  ]
}
