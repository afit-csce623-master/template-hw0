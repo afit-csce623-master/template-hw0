{
  "nbformat": 4,
  "nbformat_minor": 0,
  "metadata": {
    "colab": {
      "name": "template-hw0.ipynb",
      "provenance": [],
      "collapsed_sections": [],
      "toc_visible": true,
      "include_colab_link": true
    },
    "kernelspec": {
      "name": "python3",
      "display_name": "Python 3"
    }
  },
  "cells": [
    {
      "cell_type": "markdown",
      "metadata": {
        "id": "view-in-github",
        "colab_type": "text"
      },
      "source": [
        "<a href=\"https://colab.research.google.com/github/afit-csce623-master/template-hw0/blob/main/template_hw0.ipynb\" target=\"_parent\"><img src=\"https://colab.research.google.com/assets/colab-badge.svg\" alt=\"Open In Colab\"/></a>"
      ]
    },
    {
      "cell_type": "markdown",
      "metadata": {
        "nbgrader": {
          "grade": false,
          "grade_id": "cell-6d0fb40523026b17",
          "locked": true,
          "schema_version": 3,
          "solution": false,
          "task": false
        },
        "id": "Gdr-ueUldM4E"
      },
      "source": [
        "# CSCE 623 Homework Assignment"
      ]
    },
    {
      "cell_type": "markdown",
      "metadata": {
        "id": "CsCY7fC9M6Vr"
      },
      "source": [
        "## Header"
      ]
    },
    {
      "cell_type": "markdown",
      "metadata": {
        "id": "q7R9W9fBdsH_"
      },
      "source": [
        "### Student Name"
      ]
    },
    {
      "cell_type": "markdown",
      "metadata": {
        "id": "nURZHcOgOTV3"
      },
      "source": [
        "< Enter Student Name >"
      ]
    },
    {
      "cell_type": "markdown",
      "metadata": {
        "id": "YJ4ftr1PObVj"
      },
      "source": [
        "### Date"
      ]
    },
    {
      "cell_type": "markdown",
      "metadata": {
        "id": "R72J2ni7Ocke"
      },
      "source": [
        "< Enter Date >"
      ]
    },
    {
      "cell_type": "code",
      "metadata": {
        "id": "6NCxSHNUHzE1"
      },
      "source": [
        "import pandas as pd\n",
        "import hashlib\n",
        "import json"
      ],
      "execution_count": 1,
      "outputs": []
    },
    {
      "cell_type": "markdown",
      "metadata": {
        "id": "YxwQLzph0Dyi"
      },
      "source": [
        "## Disclosures\n",
        "\n",
        "This notebook will change the system configuration in the following ways:\n",
        "- Installs cartopy via pip"
      ]
    },
    {
      "cell_type": "markdown",
      "metadata": {
        "id": "jjsJmbLkPBX4"
      },
      "source": [
        "## Overview"
      ]
    },
    {
      "cell_type": "markdown",
      "metadata": {
        "id": "UEGAAVJJPHHN"
      },
      "source": [
        "## Discussion"
      ]
    },
    {
      "cell_type": "markdown",
      "metadata": {
        "id": "113P2OqPPTA-"
      },
      "source": [
        "### Notebook Commands"
      ]
    },
    {
      "cell_type": "markdown",
      "metadata": {
        "id": "Uqy0yFCa2SVA"
      },
      "source": [
        "If using Colab for development, your Jupyter notebook will run on a Google-provided server. The preconfiguration will provide a wealth of installed packages. If developing locally, the packages available will depend on your environment.\n",
        "\n",
        "The following code will enumerate the packages available."
      ]
    },
    {
      "cell_type": "code",
      "metadata": {
        "id": "okjblVnW16rw",
        "colab": {
          "base_uri": "https://localhost:8080/"
        },
        "outputId": "cc379431-3c09-42e6-c779-5d45c445cea1"
      },
      "source": [
        "import subprocess\n",
        "import sys\n",
        "\n",
        "reqs = subprocess.check_output([sys.executable, '-m', 'pip', 'freeze'])\n",
        "installed_packages = [r.decode().split('==')[0] for r in reqs.split()]\n",
        "\n",
        "print(installed_packages)"
      ],
      "execution_count": 2,
      "outputs": [
        {
          "output_type": "stream",
          "text": [
            "['absl-py', 'alabaster', 'albumentations', 'altair', 'appdirs', 'argon2-cffi', 'astor', 'astropy', 'astunparse', 'async-generator', 'atari-py', 'atomicwrites', 'attrs', 'audioread', 'autograd', 'Babel', 'backcall', 'beautifulsoup4', 'bleach', 'blis', 'bokeh', 'Bottleneck', 'branca', 'bs4', 'CacheControl', 'cachetools', 'Cartopy', 'catalogue', 'certifi', 'cffi', 'chainer', 'chardet', 'click', 'cloudpickle', 'cmake', 'cmdstanpy', 'colorcet', 'colorlover', 'community', 'contextlib2', 'convertdate', 'coverage', 'coveralls', 'crcmod', 'cufflinks', 'cvxopt', 'cvxpy', 'cycler', 'cymem', 'Cython', 'daft', 'dask', 'datascience', 'debugpy', 'decorator', 'defusedxml', 'descartes', 'dill', 'distributed', 'dlib', 'dm-tree', 'docopt', 'docutils', 'dopamine-rl', 'earthengine-api', 'easydict', 'ecos', 'editdistance', 'en-core-web-sm', 'entrypoints', 'ephem', 'et-xmlfile', 'fa2', 'fancyimpute', 'fastai', 'fastdtw', 'fastprogress', 'fastrlock', 'fbprophet', 'feather-format', 'filelock', 'firebase-admin', 'fix-yahoo-finance', 'Flask', 'flatbuffers', 'folium', 'future', 'gast', 'GDAL', 'gdown', 'gensim', 'geographiclib', 'geopy', 'gin-config', 'glob2', 'google', 'google-api-core', 'google-api-python-client', 'google-auth', 'google-auth-httplib2', 'google-auth-oauthlib', 'google-cloud-bigquery', 'google-cloud-bigquery-storage', 'google-cloud-core', 'google-cloud-datastore', 'google-cloud-firestore', 'google-cloud-language', 'google-cloud-storage', 'google-cloud-translate', 'google-colab', 'google-pasta', 'google-resumable-media', 'googleapis-common-protos', 'googledrivedownloader', 'graphviz', 'greenlet', 'grpcio', 'gspread', 'gspread-dataframe', 'gym', 'h5py', 'HeapDict', 'hijri-converter', 'holidays', 'holoviews', 'html5lib', 'httpimport', 'httplib2', 'httplib2shim', 'humanize', 'hyperopt', 'ideep4py', 'idna', 'imageio', 'imagesize', 'imbalanced-learn', 'imblearn', 'imgaug', 'importlib-metadata', 'importlib-resources', 'imutils', 'inflect', 'iniconfig', 'intel-openmp', 'intervaltree', 'ipykernel', 'ipython', 'ipython-genutils', 'ipython-sql', 'ipywidgets', 'itsdangerous', 'jax', 'jaxlib', 'jdcal', 'jedi', 'jieba', 'Jinja2', 'joblib', 'jpeg4py', 'jsonschema', 'jupyter', 'jupyter-client', 'jupyter-console', 'jupyter-core', 'jupyterlab-pygments', 'jupyterlab-widgets', 'kaggle', 'kapre', 'Keras', 'Keras-Preprocessing', 'keras-vis', 'kiwisolver', 'knnimpute', 'korean-lunar-calendar', 'librosa', 'lightgbm', 'llvmlite', 'lmdb', 'LunarCalendar', 'lxml', 'Markdown', 'MarkupSafe', 'matplotlib', 'matplotlib-venn', 'missingno', 'mistune', 'mizani', 'mkl', 'mlxtend', 'more-itertools', 'moviepy', 'mpmath', 'msgpack', 'multiprocess', 'multitasking', 'murmurhash', 'music21', 'natsort', 'nbclient', 'nbconvert', 'nbformat', 'nest-asyncio', 'networkx', 'nibabel', 'nltk', 'notebook', 'np-utils', 'numba', 'numexpr', 'numpy', 'nvidia-ml-py3', 'oauth2client', 'oauthlib', 'okgrade', 'opencv-contrib-python', 'opencv-python', 'openpyxl', 'opt-einsum', 'osqp', 'packaging', 'palettable', 'pandas', 'pandas-datareader', 'pandas-gbq', 'pandas-profiling', 'pandocfilters', 'panel', 'param', 'parso', 'pathlib', 'patsy', 'pexpect', 'pickleshare', 'Pillow', 'pip-tools', 'plac', 'plotly', 'plotnine', 'pluggy', 'pooch', 'portpicker', 'prefetch-generator', 'preshed', 'prettytable', 'progressbar2', 'prometheus-client', 'promise', 'prompt-toolkit', 'protobuf', 'psutil', 'psycopg2', 'ptyprocess', 'py', 'pyarrow', 'pyasn1', 'pyasn1-modules', 'pycocotools', 'pycparser', 'pyct', 'pydata-google-auth', 'pydot', 'pydot-ng', 'pydotplus', 'PyDrive', 'pyemd', 'pyerfa', 'pyglet', 'Pygments', 'pygobject', 'pymc3', 'PyMeeus', 'pymongo', 'pymystem3', 'PyOpenGL', 'pyparsing', 'pyrsistent', 'pyshp', 'pysndfile', 'PySocks', 'pystan', 'pytest', 'python-apt', 'python-chess', 'python-dateutil', 'python-louvain', 'python-slugify', 'python-utils', 'pytz', 'pyviz-comms', 'PyWavelets', 'PyYAML', 'pyzmq', 'qdldl', 'qtconsole', 'QtPy', 'regex', 'requests', 'requests-oauthlib', 'resampy', 'retrying', 'rpy2', 'rsa', 'scikit-image', 'scikit-learn', 'scipy', 'screen-resolution-extra', 'scs', 'seaborn', 'Send2Trash', 'setuptools-git', 'Shapely', 'simplegeneric', 'six', 'sklearn', 'sklearn-pandas', 'smart-open', 'snowballstemmer', 'sortedcontainers', 'SoundFile', 'spacy', 'Sphinx', 'sphinxcontrib-serializinghtml', 'sphinxcontrib-websupport', 'SQLAlchemy', 'sqlparse', 'srsly', 'statsmodels', 'sympy', 'tables', 'tabulate', 'tblib', 'tensorboard', 'tensorboard-plugin-wit', 'tensorflow', 'tensorflow-datasets', 'tensorflow-estimator', 'tensorflow-gcs-config', 'tensorflow-hub', 'tensorflow-metadata', 'tensorflow-probability', 'termcolor', 'terminado', 'testpath', 'text-unidecode', 'textblob', 'textgenrnn', 'Theano', 'thinc', 'tifffile', 'toml', 'toolz', 'torch', 'torchsummary', 'torchtext', 'torchvision', 'tornado', 'tqdm', 'traitlets', 'tweepy', 'typeguard', 'typing-extensions', 'tzlocal', 'uritemplate', 'urllib3', 'vega-datasets', 'wasabi', 'wcwidth', 'webencodings', 'Werkzeug', 'widgetsnbextension', 'wordcloud', 'wrapt', 'xarray', 'xgboost', 'xkit', 'xlrd', 'xlwt', 'yellowbrick', 'zict', 'zipp']\n"
          ],
          "name": "stdout"
        }
      ]
    },
    {
      "cell_type": "markdown",
      "metadata": {
        "id": "SSuID5iR3l4n"
      },
      "source": [
        "You may install additional packages directly from within the notebook. If developing locally, you could install additional packages directly in your environment instead of installing them using the notebook. However, your notebook is more portable if you install packages within the notebook itself."
      ]
    },
    {
      "cell_type": "code",
      "metadata": {
        "id": "oPSe72cU3ug9",
        "colab": {
          "base_uri": "https://localhost:8080/"
        },
        "outputId": "7a768db8-fdd0-4c7c-bb09-de741b28e161"
      },
      "source": [
        "%pip install cartopy"
      ],
      "execution_count": 3,
      "outputs": [
        {
          "output_type": "stream",
          "text": [
            "Requirement already satisfied: cartopy in /usr/local/lib/python3.7/dist-packages (0.18.0)\n",
            "Requirement already satisfied: shapely>=1.5.6 in /usr/local/lib/python3.7/dist-packages (from cartopy) (1.7.1)\n",
            "Requirement already satisfied: pyshp>=1.1.4 in /usr/local/lib/python3.7/dist-packages (from cartopy) (2.1.3)\n",
            "Requirement already satisfied: six>=1.3.0 in /usr/local/lib/python3.7/dist-packages (from cartopy) (1.15.0)\n",
            "Requirement already satisfied: numpy>=1.10 in /usr/local/lib/python3.7/dist-packages (from cartopy) (1.19.5)\n",
            "Requirement already satisfied: setuptools>=0.7.2 in /usr/local/lib/python3.7/dist-packages (from cartopy) (54.2.0)\n"
          ],
          "name": "stdout"
        }
      ]
    },
    {
      "cell_type": "markdown",
      "metadata": {
        "id": "zUJ8B01B8ynt"
      },
      "source": [
        "You can also execute Linux system commands from within the notebook. Refer to [the IPython System Commands tutorial at www.tutorialspoint.com](https://www.tutorialspoint.com/jupyter/ipython_system_commands.htm) and use the following cell to explore using system commands. Try the following:\n",
        "\n",
        "- display the name of the current working directory\n",
        "- list the folder contents"
      ]
    },
    {
      "cell_type": "code",
      "metadata": {
        "id": "tVVLQUef_hR7"
      },
      "source": [
        ""
      ],
      "execution_count": 3,
      "outputs": []
    },
    {
      "cell_type": "markdown",
      "metadata": {
        "id": "3pQ5_inDAiUh"
      },
      "source": [
        "Jupyter notebooks also includes magic commands. Read more about magic commands [at the IPython Magic Commands tutorial at www.tutorialspoint.com](https://www.tutorialspoint.com/jupyter/ipython_magic_commands.htm).\n",
        "\n",
        "Experiment with magic commands below. Try the following:\n",
        "- display the name of the current working directory\n",
        "- list the folder contents\n",
        "- create a directory\n",
        "- change the current directory to the directory you just created\n",
        "- assign the name of the present working directory to a Python variable"
      ]
    },
    {
      "cell_type": "code",
      "metadata": {
        "id": "g6le4Cjn4_Lm"
      },
      "source": [
        ""
      ],
      "execution_count": 3,
      "outputs": []
    },
    {
      "cell_type": "markdown",
      "metadata": {
        "id": "sW15DtxoCAm5"
      },
      "source": [
        "## Required Activities"
      ]
    },
    {
      "cell_type": "markdown",
      "metadata": {
        "id": "gpkiVuXWPUbc"
      },
      "source": [
        "### STEP 1"
      ]
    },
    {
      "cell_type": "markdown",
      "metadata": {
        "id": "jdPlT5qnDfvv"
      },
      "source": [
        "Often, you'll use datasets in your notebooks. You can use a notebook to import the dataset into your environment. If developing locally, you can import datasets directly in your development environment, but importing datasets from within your notebook improves its portability. \n",
        "\n",
        "1. Using the `wget` system command (or a suitable alternative for your environment), download the housing dataset used in several chapters of the _Hands-On Machine Learning_ text (_HOML_). The URL of the datasetet is `https://raw.githubusercontent.com/ageron/handson-ml2/master/datasets/housing/housing.csv`.\n",
        "2. Using `pandas`, save the dataset into a pandas dataframe variable named `data`."
      ]
    },
    {
      "cell_type": "code",
      "metadata": {
        "id": "WndVIXHDHJxT",
        "colab": {
          "base_uri": "https://localhost:8080/"
        },
        "outputId": "dc0fcae7-d8b8-4e1a-ceaa-3648e80b932d"
      },
      "source": [
        "#STEP 1\n",
        "\n",
        "#STUDENT CODE - insert code to import housing.csv using wget, then use pandas to store the data in a dataframe called 'df'\n",
        "#---------------------------------------------\n",
        "!wget https://raw.githubusercontent.com/ageron/handson-ml2/master/datasets/housing/housing.csv\n",
        "df = pd.read_csv('housing.csv')\n",
        "\n",
        "#---------------------------------------------\n",
        "df.describe()\n",
        "\n",
        "# comment out the following or change value to True to test Step 1\n",
        "STEP_1_COMPLETE = False"
      ],
      "execution_count": 4,
      "outputs": [
        {
          "output_type": "stream",
          "text": [
            "--2021-04-06 06:41:21--  https://raw.githubusercontent.com/ageron/handson-ml2/master/datasets/housing/housing.csv\n",
            "Resolving raw.githubusercontent.com (raw.githubusercontent.com)... 185.199.108.133, 185.199.109.133, 185.199.110.133, ...\n",
            "Connecting to raw.githubusercontent.com (raw.githubusercontent.com)|185.199.108.133|:443... connected.\n",
            "HTTP request sent, awaiting response... 200 OK\n",
            "Length: 1423529 (1.4M) [text/plain]\n",
            "Saving to: ‘housing.csv.2’\n",
            "\n",
            "\rhousing.csv.2         0%[                    ]       0  --.-KB/s               \rhousing.csv.2       100%[===================>]   1.36M  --.-KB/s    in 0.03s   \n",
            "\n",
            "2021-04-06 06:41:22 (50.1 MB/s) - ‘housing.csv.2’ saved [1423529/1423529]\n",
            "\n"
          ],
          "name": "stdout"
        }
      ]
    },
    {
      "cell_type": "markdown",
      "metadata": {
        "id": "Lv4c3PBTPWDn"
      },
      "source": [
        "### STEP 2"
      ]
    },
    {
      "cell_type": "markdown",
      "metadata": {
        "id": "rJAW4dazI2H3"
      },
      "source": [
        "## Answer the questions below:\n",
        "\n",
        "- What is the airspeed velocity of an unladen swallow?\n",
        "- What is the answer to the ultimate question of life, the universe, and everything?"
      ]
    },
    {
      "cell_type": "code",
      "metadata": {
        "id": "RJ-U8hNwzzT6"
      },
      "source": [
        "# comment out the following or change value to True to complete Step 2\n",
        "STEP_2_COMPLETE = False"
      ],
      "execution_count": 5,
      "outputs": []
    },
    {
      "cell_type": "markdown",
      "metadata": {
        "id": "DUQWq0rZPXSa"
      },
      "source": [
        "### STEP 3"
      ]
    },
    {
      "cell_type": "markdown",
      "metadata": {
        "id": "ER1K4e6Dz9vG"
      },
      "source": [
        "Update the disclosures section above, enumerating the specific ways that this notebook will change the system configuration. You are providing this cell as a courtesy to a potential user to advise on which packages might be installed, directories created or removed, files downloaded, etc.\n",
        "\n",
        "The original code does the following:\n",
        "- installs the cartopy package\n",
        "- any directories or files that your final version of the code creates, modifies, or deletes"
      ]
    },
    {
      "cell_type": "code",
      "metadata": {
        "id": "4qaV8i9705ON"
      },
      "source": [
        "# comment out the following or change value to True to complete Step 3\n",
        "STEP_3_COMPLETE = False"
      ],
      "execution_count": 6,
      "outputs": []
    },
    {
      "cell_type": "markdown",
      "metadata": {
        "id": "d1DnK-WqPj0q"
      },
      "source": [
        "## Helpful Hints"
      ]
    },
    {
      "cell_type": "markdown",
      "metadata": {
        "id": "MqVP0xWKPr_Z"
      },
      "source": [
        "- Auto testing is available in github. As you complete steps, commit this file to your GitHub repository. GitHub will run automated tests to verify your code. GitHub will not validate your text answers or plots.\n",
        "  - If you're using Colab by Google, you'll need to save to GitHub (File -> Save a Copy to GitHub)\n",
        "  - If you're developing on a local notebook, you'll need to commit your changes locally and push to your remote GitHub repository"
      ]
    }
  ]
}